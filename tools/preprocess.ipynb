{
 "cells": [
  {
   "cell_type": "code",
   "execution_count": 1,
   "metadata": {},
   "outputs": [],
   "source": [
    "import os\n",
    "import numpy as np\n",
    "import open3d as o3d\n",
    "from open3d import JVisualizer\n",
    "import pandas as pd\n",
    "\n",
    "%matplotlib inline\n",
    "import matplotlib.pyplot as plt\n",
    "from matplotlib.colors import ListedColormap\n",
    "\n",
    "from IPython.display import clear_output"
   ]
  },
  {
   "cell_type": "code",
   "execution_count": 2,
   "metadata": {},
   "outputs": [],
   "source": [
    "os.chdir(\"/home/vglasov/Reseach/LU-Net-pytorch/\")\n",
    "import config"
   ]
  },
  {
   "cell_type": "code",
   "execution_count": 74,
   "metadata": {},
   "outputs": [],
   "source": [
    "class Pcd2ImageTransform:\n",
    "    def __init__(self, shape=config.shape, angular=config.angular):\n",
    "        self.height, self.width = shape\n",
    "        y_angular, x_angular = angular\n",
    "        self.x_delta, self.y_delta = x_angular / self.width, y_angular / self.height\n",
    "    \n",
    "    def fit(self, pcd, label_list):\n",
    "        if pcd.is_empty():\n",
    "            raise RuntimeError(\"Point Cloud must be non-empty\")\n",
    "            \n",
    "        self.pcd = pcd\n",
    "        x, y, z = np.array(self.pcd.points).T\n",
    "        r = np.sqrt(x**2 + y**2 + z**2)\n",
    "        azimuth_angle = np.arctan2(x, y)\n",
    "        elevation_angle = np.arcsin(z / r)\n",
    "        \n",
    "        x_img = np.floor(azimuth_angle / self.x_delta).astype(int)\n",
    "        y_img = np.floor(elevation_angle / self.y_delta).astype(int)\n",
    "        \n",
    "        x_img -= x_img.min()\n",
    "        y_img -= y_img.min()\n",
    "        \n",
    "        self.pcd_labels = np.zeros(len(self.pcd.points), dtype=int)\n",
    "        for x_min, y_min, z_min, x_max, y_max, z_max in label_list:            \n",
    "            self.pcd_labels[np.all([x_min <= x,\n",
    "                                    y_min <= y, \n",
    "                                    z_min <= z,\n",
    "                                    x <= x_max,\n",
    "                                    y <= y_max,\n",
    "                                    z <= z_max], axis=0)] = 1\n",
    "        \n",
    "        self.transformation = pd.DataFrame({'x': x, \n",
    "                                            'y': y,\n",
    "                                            'z': z,\n",
    "                                            'x_img': x_img,\n",
    "                                            'y_img': y_img,\n",
    "                                            'r': r,\n",
    "                                            'label': self.pcd_labels})        \n",
    "        return self\n",
    "    \n",
    "    def transform(self, pcd, label_list):\n",
    "        X = self.transformation.groupby(['y_img', 'x_img'])[['r', 'label']].mean()\n",
    "        range_image = X['r'].unstack().values[::-1, :]\n",
    "        mask = np.isfinite(X['r'].unstack().values[::-1, :])\n",
    "        labels = X['label'].unstack().values[::-1, :]\n",
    "        \n",
    "        return range_image, mask, np.nan_to_num(labels) > 0\n",
    "    \n",
    "    def fit_transform(self, pcd, label_list):\n",
    "        self.fit(pcd, label_list)\n",
    "        return self.transform(pcd, label_list)\n",
    "    \n",
    "    def inverse_transform(self, prediction):\n",
    "        x_idx_pred, y_idx_pred = np.where(labels)\n",
    "        prediction = np.zeros(len(self.transformation))\n",
    "        for x, y in zip(*np.where(labels)):\n",
    "            prediction[(self.transformation['x_img'] == x) & (self.transformation['y_img'] == y)] = 1\n",
    "        pcd = o3d.PointCloud(self.pcd)\n",
    "#         pcd.points = self.pcd\n",
    "        pcd.colors = o3d.Vector3dVector(np.vstack((prediction,\n",
    "                                                   np.zeros_like(prediction),\n",
    "                                                   prediction)).T)\n",
    "        return pcd"
   ]
  },
  {
   "cell_type": "code",
   "execution_count": 75,
   "metadata": {},
   "outputs": [
    {
     "data": {
      "text/plain": [
       "array([[9, 0, 2, 5],\n",
       "       [9, 0, 2, 5]])"
      ]
     },
     "execution_count": 75,
     "metadata": {},
     "output_type": "execute_result"
    }
   ],
   "source": [
    "x = np.random.randint(0, 10, 4)\n",
    "np.vstack((x, x))"
   ]
  },
  {
   "cell_type": "code",
   "execution_count": 76,
   "metadata": {
    "scrolled": true
   },
   "outputs": [
    {
     "name": "stdout",
     "output_type": "stream",
     "text": [
      "CPU times: user 355 ms, sys: 0 ns, total: 355 ms\n",
      "Wall time: 355 ms\n"
     ]
    },
    {
     "data": {
      "text/plain": [
       "geometry::PointCloud with 26456 points."
      ]
     },
     "execution_count": 76,
     "metadata": {},
     "output_type": "execute_result"
    }
   ],
   "source": [
    "%%time\n",
    "pts_path = os.path.join(config.dataset, \"LCAS_20160523_1200_1218_pcd\", \"1464001379.626087000.pcd\")\n",
    "labels_path = os.path.join(config.dataset, \"LCAS_20160523_1200_1218_labels\", \"1464001379.626087000.txt\")\n",
    "\n",
    "fragment = o3d.read_point_cloud(pts_path)\n",
    "labels_list = [list(map(float, f.split()[4:10])) for f in open(labels_path, \"r\").readlines()]\n",
    "\n",
    "\n",
    "pcd2img = Pcd2ImageTransform().fit(fragment, labels_list)\n",
    "X, mask, labels = pcd2img.transform(fragment, labels_list)\n",
    "\n",
    "pcd2img.inverse_transform(labels)"
   ]
  },
  {
   "cell_type": "code",
   "execution_count": null,
   "metadata": {},
   "outputs": [],
   "source": []
  },
  {
   "cell_type": "code",
   "execution_count": 14,
   "metadata": {},
   "outputs": [],
   "source": [
    "x_idx_pred, y_idx_pred = np.where(labels)"
   ]
  },
  {
   "cell_type": "code",
   "execution_count": 27,
   "metadata": {},
   "outputs": [],
   "source": [
    "pcd2img = Pcd2ImageTransform().fit(fragment, labels_list)"
   ]
  },
  {
   "cell_type": "code",
   "execution_count": 30,
   "metadata": {},
   "outputs": [
    {
     "data": {
      "text/plain": [
       "26456"
      ]
     },
     "execution_count": 30,
     "metadata": {},
     "output_type": "execute_result"
    }
   ],
   "source": [
    "len(pcd2img.transformation)"
   ]
  },
  {
   "cell_type": "raw",
   "metadata": {},
   "source": [
    "%%time\n",
    "fig = plt.figure(figsize=(24, 2))\n",
    "plt.imshow(np.repeat(X, 2, axis=0), cmap=\"pink\")\n",
    "\n",
    "mask_cmap = ListedColormap([[0.] * 4, [0., 1., 0., .15,]])\n",
    "\n",
    "plt.imshow(np.repeat(labels, 2, axis=0), cmap=mask_cmap)\n",
    "fig.savefig(\"image.png\", format='png')\n",
    "# plt.show()"
   ]
  },
  {
   "cell_type": "code",
   "execution_count": null,
   "metadata": {},
   "outputs": [],
   "source": []
  }
 ],
 "metadata": {
  "kernelspec": {
   "display_name": "Python 3",
   "language": "python",
   "name": "python3"
  },
  "language_info": {
   "codemirror_mode": {
    "name": "ipython",
    "version": 3
   },
   "file_extension": ".py",
   "mimetype": "text/x-python",
   "name": "python",
   "nbconvert_exporter": "python",
   "pygments_lexer": "ipython3",
   "version": "3.6.8"
  }
 },
 "nbformat": 4,
 "nbformat_minor": 2
}
