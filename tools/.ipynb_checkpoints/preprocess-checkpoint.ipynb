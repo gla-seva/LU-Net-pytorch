{
 "cells": [
  {
   "cell_type": "code",
   "execution_count": 1,
   "metadata": {},
   "outputs": [],
   "source": [
    "import os\n",
    "import numpy as np\n",
    "import open3d as o3d\n",
    "from open3d import JVisualizer\n",
    "import pandas as pd\n",
    "\n",
    "%matplotlib inline\n",
    "import matplotlib.pyplot as plt\n",
    "from matplotlib.colors import ListedColormap\n",
    "\n",
    "from IPython.display import clear_output"
   ]
  },
  {
   "cell_type": "code",
   "execution_count": 2,
   "metadata": {},
   "outputs": [],
   "source": [
    "os.chdir(\"/home/vglasov/Reseach/LU-Net-pytorch/\")\n",
    "import config"
   ]
  },
  {
   "cell_type": "code",
   "execution_count": 8,
   "metadata": {},
   "outputs": [],
   "source": [
    "class Pcd2ImageTransform:\n",
    "    def __init__(self, shape=config.shape, angular=config.angular):\n",
    "        self.height, self.width = shape\n",
    "        y_angular, x_angular = angular\n",
    "        self.x_delta, self.y_delta = x_angular / self.width, y_angular / self.height\n",
    "    \n",
    "    def fit(self, pcd, label_list):\n",
    "        if pcd.is_empty():\n",
    "            raise RuntimeError(\"Point Cloud must be non-empty\")\n",
    "            \n",
    "        self.pcd = pcd\n",
    "        x, y, z = np.array(self.pcd.points).T\n",
    "        r = np.sqrt(x**2 + y**2 + z**2)\n",
    "        azimuth_angle = np.arctan2(x, y)\n",
    "        elevation_angle = np.arcsin(z / r)\n",
    "        \n",
    "        x_img = np.floor(azimuth_angle / self.x_delta).astype(int)\n",
    "        y_img = np.floor(elevation_angle / self.y_delta).astype(int)\n",
    "        \n",
    "        x_img -= x_img.min()\n",
    "        y_img -= y_img.min()\n",
    "        \n",
    "        self.pcd_labels = np.zeros(len(self.pcd.points), dtype=int)\n",
    "        for x_min, y_min, z_min, x_max, y_max, z_max in label_list:            \n",
    "            self.pcd_labels[np.all([x_min <= x,\n",
    "                                    y_min <= y, \n",
    "                                    z_min <= z,\n",
    "                                    x <= x_max,\n",
    "                                    y <= y_max,\n",
    "                                    z <= z_max], axis=0)] = 1\n",
    "        \n",
    "        self.transformation = pd.DataFrame({'x': x, \n",
    "                                            'y': y,\n",
    "                                            'z': z,\n",
    "                                            'x_img': x_img,\n",
    "                                            'y_img': y_img,\n",
    "                                            'r': r,\n",
    "                                            'label': self.pcd_labels})        \n",
    "        return self\n",
    "    \n",
    "    def transform(self, pcd, label_list):\n",
    "        X = self.transformation.groupby(['y_img', 'x_img'])[['r', 'label']].mean()\n",
    "        range_image = X['r'].unstack().values[::-1, :]\n",
    "        mask = np.isfinite(X['r'].unstack().values[::-1, :])\n",
    "        labels = X['label'].unstack().values[::-1, :]\n",
    "        \n",
    "        return range_image, mask, np.nan_to_num(labels) > 0\n",
    "    \n",
    "    def fit_transform(self, pcd, label_list):\n",
    "        self.fit(pcd, label_list)\n",
    "        return self.transform(pcd, label_list)\n",
    "    \n",
    "    def inverse_transform(self, img, mask, prediction):\n",
    "        \n",
    "        return 0"
   ]
  },
  {
   "cell_type": "code",
   "execution_count": 9,
   "metadata": {
    "scrolled": true
   },
   "outputs": [
    {
     "name": "stdout",
     "output_type": "stream",
     "text": [
      "[-0.21183, 1.26315, -0.438957, 0.533645, 1.76536, 0.432228]\n"
     ]
    },
    {
     "ename": "ValueError",
     "evalue": "not enough values to unpack (expected 6, got 0)",
     "output_type": "error",
     "traceback": [
      "\u001b[0;31m---------------------------------------------------------------------------\u001b[0m",
      "\u001b[0;31mValueError\u001b[0m                                Traceback (most recent call last)",
      "\u001b[0;32m<timed exec>\u001b[0m in \u001b[0;36m<module>\u001b[0;34m\u001b[0m\n",
      "\u001b[0;32m<ipython-input-8-37f4b275ac30>\u001b[0m in \u001b[0;36mfit_transform\u001b[0;34m(self, pcd, label_list)\u001b[0m\n\u001b[1;32m     50\u001b[0m \u001b[0;34m\u001b[0m\u001b[0m\n\u001b[1;32m     51\u001b[0m     \u001b[0;32mdef\u001b[0m \u001b[0mfit_transform\u001b[0m\u001b[0;34m(\u001b[0m\u001b[0mself\u001b[0m\u001b[0;34m,\u001b[0m \u001b[0mpcd\u001b[0m\u001b[0;34m,\u001b[0m \u001b[0mlabel_list\u001b[0m\u001b[0;34m)\u001b[0m\u001b[0;34m:\u001b[0m\u001b[0;34m\u001b[0m\u001b[0;34m\u001b[0m\u001b[0m\n\u001b[0;32m---> 52\u001b[0;31m         \u001b[0mself\u001b[0m\u001b[0;34m.\u001b[0m\u001b[0mfit\u001b[0m\u001b[0;34m(\u001b[0m\u001b[0mpcd\u001b[0m\u001b[0;34m,\u001b[0m \u001b[0mlabel_list\u001b[0m\u001b[0;34m)\u001b[0m\u001b[0;34m\u001b[0m\u001b[0;34m\u001b[0m\u001b[0m\n\u001b[0m\u001b[1;32m     53\u001b[0m         \u001b[0;32mreturn\u001b[0m \u001b[0mself\u001b[0m\u001b[0;34m.\u001b[0m\u001b[0mtransform\u001b[0m\u001b[0;34m(\u001b[0m\u001b[0mpcd\u001b[0m\u001b[0;34m,\u001b[0m \u001b[0mlabel_list\u001b[0m\u001b[0;34m)\u001b[0m\u001b[0;34m\u001b[0m\u001b[0;34m\u001b[0m\u001b[0m\n\u001b[1;32m     54\u001b[0m \u001b[0;34m\u001b[0m\u001b[0m\n",
      "\u001b[0;32m<ipython-input-8-37f4b275ac30>\u001b[0m in \u001b[0;36mfit\u001b[0;34m(self, pcd, label_list)\u001b[0m\n\u001b[1;32m     24\u001b[0m         \u001b[0mprint\u001b[0m\u001b[0;34m(\u001b[0m\u001b[0mlist\u001b[0m\u001b[0;34m(\u001b[0m\u001b[0mlabel_list\u001b[0m\u001b[0;34m[\u001b[0m\u001b[0;36m1\u001b[0m\u001b[0;34m]\u001b[0m\u001b[0;34m)\u001b[0m\u001b[0;34m)\u001b[0m\u001b[0;34m\u001b[0m\u001b[0;34m\u001b[0m\u001b[0m\n\u001b[1;32m     25\u001b[0m         \u001b[0;32mfor\u001b[0m \u001b[0melmt\u001b[0m \u001b[0;32min\u001b[0m \u001b[0mlabel_list\u001b[0m\u001b[0;34m:\u001b[0m\u001b[0;34m\u001b[0m\u001b[0;34m\u001b[0m\u001b[0m\n\u001b[0;32m---> 26\u001b[0;31m             \u001b[0mx_min\u001b[0m\u001b[0;34m,\u001b[0m \u001b[0my_min\u001b[0m\u001b[0;34m,\u001b[0m \u001b[0mz_min\u001b[0m\u001b[0;34m,\u001b[0m \u001b[0mx_max\u001b[0m\u001b[0;34m,\u001b[0m \u001b[0my_max\u001b[0m\u001b[0;34m,\u001b[0m \u001b[0mz_max\u001b[0m \u001b[0;34m=\u001b[0m \u001b[0mlist\u001b[0m\u001b[0;34m(\u001b[0m\u001b[0melmt\u001b[0m\u001b[0;34m)\u001b[0m\u001b[0;34m\u001b[0m\u001b[0;34m\u001b[0m\u001b[0m\n\u001b[0m\u001b[1;32m     27\u001b[0m             self.pcd_labels[np.all([x_min <= x,\n\u001b[1;32m     28\u001b[0m                                     \u001b[0my_min\u001b[0m \u001b[0;34m<=\u001b[0m \u001b[0my\u001b[0m\u001b[0;34m,\u001b[0m\u001b[0;34m\u001b[0m\u001b[0;34m\u001b[0m\u001b[0m\n",
      "\u001b[0;31mValueError\u001b[0m: not enough values to unpack (expected 6, got 0)"
     ]
    }
   ],
   "source": [
    "%%time\n",
    "pts_path = os.path.join(config.dataset, \"LCAS_20160523_1200_1218_pcd\", \"1464001379.626087000.pcd\")\n",
    "labels_path = os.path.join(config.dataset, \"LCAS_20160523_1200_1218_labels\", \"1464001379.626087000.txt\")\n",
    "\n",
    "fragment = o3d.read_point_cloud(pts_path)\n",
    "labels_list = [map(float, f.split()[4:10]) for f in open(labels_path, \"r\").readlines()]\n",
    "\n",
    "\n",
    "X, mask, labels = Pcd2ImageTransform().fit_transform(fragment, labels_list)"
   ]
  },
  {
   "cell_type": "raw",
   "metadata": {},
   "source": [
    "pcd2img = Pcd2ImageTransform().fit(fragment, labels_list)\n"
   ]
  },
  {
   "cell_type": "raw",
   "metadata": {},
   "source": [
    "%%time\n",
    "fig = plt.figure(figsize=(24, 2))\n",
    "plt.imshow(np.repeat(X, 2, axis=0), cmap=\"pink\")\n",
    "\n",
    "mask_cmap = ListedColormap([[0.] * 4, [0., 1., 0., .15,]])\n",
    "\n",
    "plt.imshow(np.repeat(labels, 2, axis=0), cmap=mask_cmap)\n",
    "fig.savefig(\"image.png\", format='png')\n",
    "# plt.show()"
   ]
  },
  {
   "cell_type": "code",
   "execution_count": null,
   "metadata": {},
   "outputs": [],
   "source": []
  }
 ],
 "metadata": {
  "kernelspec": {
   "display_name": "Python 3",
   "language": "python",
   "name": "python3"
  },
  "language_info": {
   "codemirror_mode": {
    "name": "ipython",
    "version": 3
   },
   "file_extension": ".py",
   "mimetype": "text/x-python",
   "name": "python",
   "nbconvert_exporter": "python",
   "pygments_lexer": "ipython3",
   "version": "3.6.8"
  }
 },
 "nbformat": 4,
 "nbformat_minor": 2
}
