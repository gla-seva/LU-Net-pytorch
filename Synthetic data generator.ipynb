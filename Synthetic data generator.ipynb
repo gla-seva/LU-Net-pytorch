{
 "cells": [
  {
   "cell_type": "code",
   "execution_count": 1,
   "metadata": {},
   "outputs": [],
   "source": [
    "import config\n",
    "from tools import dataloader, preprocess"
   ]
  },
  {
   "cell_type": "code",
   "execution_count": 2,
   "metadata": {},
   "outputs": [],
   "source": [
    "import os\n",
    "import numpy as np\n",
    "import open3d as o3d\n",
    "import pandas as pd\n",
    "\n",
    "%matplotlib inline\n",
    "import matplotlib.pyplot as plt\n",
    "from matplotlib.colors import ListedColormap\n",
    "\n",
    "from IPython.display import clear_output"
   ]
  },
  {
   "cell_type": "code",
   "execution_count": 3,
   "metadata": {},
   "outputs": [
    {
     "name": "stderr",
     "output_type": "stream",
     "text": [
      "/home/vglasov/Reseach/LU-Net-pytorch/tools/preprocess.py:77: RuntimeWarning: invalid value encountered in greater\n",
      "  labels = template.join(lb).unstack(fill_value=0.).values[::-1, :] > 0\n"
     ]
    },
    {
     "data": {
      "image/png": "[encoded data removed]",
      "text/plain": [
       "<Figure size 1728x144 with 1 Axes>"
      ]
     },
     "metadata": {
      "needs_background": "light"
     },
     "output_type": "display_data"
    }
   ],
   "source": [
    "#combine background image from two empty ones\n",
    "pcd_left = o3d.read_point_cloud(\"/home/vglasov/datasets/L_CAS_3D_Point_Cloud_People_Dataset/3D Point Cloud People Dataset/LCAS_20160523_1200_1218_pcd/1464001282.123002000.pcd\")\n",
    "pcd_right = o3d.read_point_cloud(\"/home/vglasov/datasets/L_CAS_3D_Point_Cloud_People_Dataset/3D Point Cloud People Dataset/LCAS_20160523_1200_1218_pcd/1464001870.391430000.pcd\")\n",
    "pcd_background = o3d.crop_point_cloud(pcd_left, [-100., -100., -100.], [0., 100., 100.]) + \\\n",
    "      o3d.crop_point_cloud(pcd_right, [0., -100., -100.], [100., 100., 100.])\n",
    "\n",
    "o3d.write_point_cloud(\"data/background.pcd\", pcd_background)\n",
    "\n",
    "pcd2img = preprocess.Pcd2ImageTransform().fit(pcd_background, [])\n",
    "range_image, mask, labels = pcd2img.transform()\n",
    "range_image = np.nan_to_num(range_image)\n",
    "\n",
    "X, _, y = range_image[None, :, :], mask, labels\n",
    "plt.figure(figsize=(24, 2))\n",
    "plt.imshow(np.repeat(X[0, :, :], 2, axis=0), cmap='pink')\n",
    "plt.imshow(np.repeat(y, 2, axis=0), cmap=ListedColormap([[0., 0., 0., 0.], [0., 0., 1., 0.25]]))\n",
    "plt.title(\"idx %d\")\n",
    "plt.show()"
   ]
  },
  {
   "cell_type": "code",
   "execution_count": 4,
   "metadata": {},
   "outputs": [],
   "source": [
    "#fetch all bodies\n",
    "\n",
    "def fetch_bodies(path):\n",
    "    landmarks_frame = pd.read_csv(path)\n",
    "\n",
    "    def read_labels(labels_path):\n",
    "        return [list(map(float, f.split()[4:10])) for f in open(labels_path, \"r\").readlines()]\n",
    "\n",
    "    pcds = []\n",
    "    pcd_dist = []\n",
    "    pcd_size = []\n",
    "\n",
    "    for idx, pcd_path, labels_path in landmarks_frame.itertuples():\n",
    "        pcd = o3d.read_point_cloud(pcd_path)\n",
    "        labels_list = read_labels(labels_path)\n",
    "\n",
    "        for x_min, y_min, z_min, x_max, y_max, z_max in labels_list:\n",
    "            croped_pcd = o3d.crop_point_cloud(pcd, [x_min, y_min, z_min], [x_max, y_max, z_max])\n",
    "            pcds += [(croped_pcd, x_min, y_min, z_min, x_max, y_max, z_max)]\n",
    "            pcd_dist += [np.linalg.norm(croped_pcd.points, axis=1).mean()]\n",
    "            pcd_size += [len(croped_pcd.points)]\n",
    "            \n",
    "    return np.array(pcds), pcd_dist, pcd_size\n",
    "    \n",
    "train_pcds, _, _ = fetch_bodies(\"data/train.csv\")\n",
    "test_pcds, _, _ = fetch_bodies(\"data/test.csv\")"
   ]
  },
  {
   "cell_type": "code",
   "execution_count": 5,
   "metadata": {},
   "outputs": [],
   "source": [
    "import uuid\n",
    "def synthetic_data_generator(pcds, N):\n",
    "    pcd_paths = []\n",
    "    label_paths = []\n",
    "    for idx in range(N):\n",
    "        file_name = str(uuid.uuid4())\n",
    "        \n",
    "        pedestrian_number = np.random.randint(1, 7)\n",
    "        pedestrians = pcds[np.random.choice(len(pcds), size=pedestrian_number, replace=False)]\n",
    "        \n",
    "        write_to_pcd = o3d.PointCloud(pcd_background)\n",
    "        label = open(config.synthetic_dataset + \"labels/\" + file_name + \".txt\", \"w\")\n",
    "        \n",
    "        for pcd, x_min, y_min, z_min, x_max, y_max, z_max in pedestrians:\n",
    "            write_to_pcd += pcd\n",
    "            label.write(\"pedestrian 0 0 0 %f %f %f %f %f %f 0\\n\" % (x_min, y_min, z_min, x_max, y_max, z_max))\n",
    "        \n",
    "        o3d.write_point_cloud(config.synthetic_dataset + \"pcd/\" + file_name + \".pcd\", write_to_pcd)\n",
    "        label.close()\n",
    "        pcd_paths += [config.synthetic_dataset + \"pcd/\" + file_name + \".pcd\"]\n",
    "        label_paths += [config.synthetic_dataset + \"labels/\" + file_name + \".txt\"]\n",
    "        \n",
    "    return pd.DataFrame({\"pcd\": pcd_paths, \"labels\": label_paths})"
   ]
  },
  {
   "cell_type": "code",
   "execution_count": 24,
   "metadata": {},
   "outputs": [],
   "source": [
    "df = synthetic_data_generator(train_pcds, 10000)\n",
    "df.to_csv(\"data/synthetic_train.csv\", index=False)"
   ]
  },
  {
   "cell_type": "code",
   "execution_count": 25,
   "metadata": {},
   "outputs": [],
   "source": [
    "df = synthetic_data_generator(test_pcds, 1000)\n",
    "df.to_csv(\"data/synthetic_test.csv\", index=False)"
   ]
  }
 ],
 "metadata": {
  "kernelspec": {
   "display_name": "Python 3",
   "language": "python",
   "name": "python3"
  },
  "language_info": {
   "codemirror_mode": {
    "name": "ipython",
    "version": 3
   },
   "file_extension": ".py",
   "mimetype": "text/x-python",
   "name": "python",
   "nbconvert_exporter": "python",
   "pygments_lexer": "ipython3",
   "version": "3.6.8"
  }
 },
 "nbformat": 4,
 "nbformat_minor": 2
}
